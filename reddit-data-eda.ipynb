{
 "cells": [
  {
   "cell_type": "code",
   "execution_count": 1,
   "id": "135b8e79-0a76-4b11-99b0-72ea2c842567",
   "metadata": {},
   "outputs": [],
   "source": [
    "import pandas as pd\n",
    "import numpy as np\n",
    "\n",
    "import dask.dataframe as dd\n",
    "import dask.array as da\n",
    "import dask.bag as db\n",
    "from custom_loader import Loader\n",
    "\n",
    "import re\n",
    "\n",
    "import bamboolib\n",
    "import plotly.express as px"
   ]
  },
  {
   "cell_type": "code",
   "execution_count": 2,
   "id": "9bd85974-9707-452d-a26f-f31bb002f533",
   "metadata": {},
   "outputs": [],
   "source": [
    "with open('cassandra-credentials.txt','r') as f:\n",
    "    user = f.readline().strip()\n",
    "    pw = f.readline().strip()"
   ]
  },
  {
   "cell_type": "code",
   "execution_count": 3,
   "id": "2500f973-488d-4774-b24a-a1827817452f",
   "metadata": {},
   "outputs": [
    {
     "name": "stderr",
     "output_type": "stream",
     "text": [
      "2022-12-03 01:53:22,189 - distributed.http.proxy - INFO - To route to workers diagnostics web server please install jupyter-server-proxy: python -m pip install jupyter-server-proxy\n",
      "2022-12-03 01:53:22,231 - distributed.scheduler - INFO - State start\n",
      "2022-12-03 01:53:22,238 - distributed.scheduler - INFO - Clear task state\n",
      "2022-12-03 01:53:22,239 - distributed.scheduler - INFO -   Scheduler at: inproc://192.168.0.199/322496/1\n",
      "2022-12-03 01:53:22,241 - distributed.scheduler - INFO -   dashboard at:            localhost:8787\n",
      "2022-12-03 01:53:22,260 - distributed.worker - INFO -       Start worker at: inproc://192.168.0.199/322496/4\n",
      "2022-12-03 01:53:22,261 - distributed.worker - INFO -          Listening to:        inproc192.168.0.199\n",
      "2022-12-03 01:53:22,264 - distributed.worker - INFO -          dashboard at:        192.168.0.199:33451\n",
      "2022-12-03 01:53:22,265 - distributed.worker - INFO - Waiting to connect to: inproc://192.168.0.199/322496/1\n",
      "2022-12-03 01:53:22,266 - distributed.worker - INFO - -------------------------------------------------\n",
      "2022-12-03 01:53:22,267 - distributed.worker - INFO -               Threads:                          8\n",
      "2022-12-03 01:53:22,269 - distributed.worker - INFO -                Memory:                  19.09 GiB\n",
      "2022-12-03 01:53:22,271 - distributed.worker - INFO -       Local Directory: /tmp/dask-worker-space/worker-sbn11bgg\n",
      "2022-12-03 01:53:22,272 - distributed.worker - INFO - -------------------------------------------------\n",
      "2022-12-03 01:53:22,281 - distributed.scheduler - INFO - Register worker <WorkerState 'inproc://192.168.0.199/322496/4', name: 0, status: init, memory: 0, processing: 0>\n",
      "2022-12-03 01:53:22,285 - distributed.scheduler - INFO - Starting worker compute stream, inproc://192.168.0.199/322496/4\n",
      "2022-12-03 01:53:22,287 - distributed.core - INFO - Starting established connection\n",
      "2022-12-03 01:53:22,290 - distributed.worker - INFO -         Registered to: inproc://192.168.0.199/322496/1\n",
      "2022-12-03 01:53:22,292 - distributed.worker - INFO - -------------------------------------------------\n",
      "2022-12-03 01:53:22,296 - distributed.core - INFO - Starting established connection\n",
      "2022-12-03 01:53:22,306 - distributed.scheduler - INFO - Receive client connection: Client-e2c31ad5-72a4-11ed-abc0-8c1645c78adc\n",
      "2022-12-03 01:53:22,309 - distributed.core - INFO - Starting established connection\n"
     ]
    }
   ],
   "source": [
    "dask_cassandra_loader = Loader()\n",
    "keyspace = 'mav'\n",
    "cluster = ['vm.niif.cloud.bme.hu']\n",
    "\n",
    "dask_cassandra_loader.connect_to_cassandra(cluster,\n",
    "                                           keyspace,\n",
    "                                           username=user,\n",
    "                                           password=pw, port=11352)\n",
    "dask_cassandra_loader.connect_to_local_dask()"
   ]
  },
  {
   "cell_type": "code",
   "execution_count": 4,
   "id": "b27c3c53-21d8-46aa-89db-fc0a5b250fc3",
   "metadata": {},
   "outputs": [],
   "source": [
    "table = dask_cassandra_loader.load_cassandra_table('train_data',\n",
    "                                         ['epoch', 'relation', 'trainnumber', 'created', 'delay', 'elviraid', 'lat', 'line', 'lon', 'servicename'],\n",
    "                                                   [],\n",
    "                                         #[('epoch', 'equal', [19221])],\n",
    "                                         [('epoch', [19221])],\n",
    "                                         force=False)"
   ]
  },
  {
   "cell_type": "code",
   "execution_count": 5,
   "id": "f929b341-08a9-4127-a9a7-e309270d5f4b",
   "metadata": {},
   "outputs": [
    {
     "data": {
      "application/vnd.jupyter.widget-view+json": {
       "model_id": "e4a9fb2298454745a4c430ef2e605fc5"
      },
      "text/plain": [
       "        epoch                      relation trainnumber  \\\n",
       "0       19221     Abaújszántó - Hidasnémeti     5535240   \n",
       "1       19221     Abaújszántó - Hidasnémeti     5535240   \n",
       "2       19221     Abaújszántó - Hidasnémeti     5535240   \n",
       "3       19221     Abaújszántó - Hidasnémeti     5535240   \n",
       "4       19221     Abaújszántó - Hidasnémeti     5535240   \n",
       "...       ...                           ...         ...   \n",
       "337724  19221  Őriszentpéter - Zalaegerszeg      559555   \n",
       "337725  19221  Őriszentpéter - Zalaegerszeg      559555   \n",
       "337726  19221  Őriszentpéter - Zalaegerszeg      559555   \n",
       "337727  19221  Őriszentpéter - Zalaegerszeg      559555   \n",
       "337728  19221  Őriszentpéter - Zalaegerszeg      559555   \n",
       "\n",
       "                                     created  delay        elviraid  \\\n",
       "0       e56f2000-1dd8-11ed-b905-9de3e06e662f      0  6226532_220817   \n",
       "1       016294e0-1dd9-11ed-b905-9de3e06e662f      0  6226532_220817   \n",
       "2       0bf5f2d0-1dd9-11ed-b905-9de3e06e662f      0  6226532_220817   \n",
       "3       254597e0-1dd9-11ed-b905-9de3e06e662f      0  6226532_220817   \n",
       "4       49061ec0-1dd9-11ed-b905-9de3e06e662f      0  6226532_220817   \n",
       "...                                      ...    ...             ...   \n",
       "337724  0d1bbe40-1e12-11ed-b905-9de3e06e662f      8  6227914_220817   \n",
       "337725  30734a20-1e12-11ed-b905-9de3e06e662f      8  6227914_220817   \n",
       "337726  62291ea0-1e12-11ed-b905-9de3e06e662f      8  6227914_220817   \n",
       "337727  7808a330-1e12-11ed-b905-9de3e06e662f      8  6227914_220817   \n",
       "337728  9de86090-1e12-11ed-b905-9de3e06e662f      8  6227914_220817   \n",
       "\n",
       "              lat  line        lon servicename  \n",
       "0       48.286480  None  21.181070         MAV  \n",
       "1       48.286480  None  21.181070         MAV  \n",
       "2       48.286518  None  21.181120         MAV  \n",
       "3       48.287682  None  21.182751         MAV  \n",
       "4       48.291618  None  21.188351         MAV  \n",
       "...           ...   ...        ...         ...  \n",
       "337724  46.849449  None  16.847799         MAV  \n",
       "337725  46.847092  None  16.855160         MAV  \n",
       "337726  46.840870  None  16.852501         MAV  \n",
       "337727  46.837769  None  16.848330         MAV  \n",
       "337728  46.834290  None  16.848070         MAV  \n",
       "\n",
       "[337729 rows x 10 columns]"
      ]
     },
     "metadata": {},
     "output_type": "display_data"
    }
   ],
   "source": [
    "test_df = table.data.compute()\n",
    "test_df"
   ]
  }
 ],
 "metadata": {
  "kernelspec": {
   "display_name": "Python 3 (ipykernel)",
   "language": "python",
   "name": "python3"
  },
  "language_info": {
   "codemirror_mode": {
    "name": "ipython",
    "version": 3
   },
   "file_extension": ".py",
   "mimetype": "text/x-python",
   "name": "python",
   "nbconvert_exporter": "python",
   "pygments_lexer": "ipython3",
   "version": "3.9.7"
  }
 },
 "nbformat": 4,
 "nbformat_minor": 5
}
