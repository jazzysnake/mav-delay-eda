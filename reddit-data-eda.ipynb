{
 "cells": [
  {
   "cell_type": "markdown",
   "id": "7c309102-6a8b-44cc-9070-f8139a274947",
   "metadata": {},
   "source": [
    "## Longer term delay analysis\n",
    "\n",
    "The data used in this analisys ranges from 2021.01.01 to 2022.9.30.\n",
    "All trains and their positions as well as their potential delays are\n",
    "sampled every minute, resulting in ~10GB data. This dataset does not\n",
    "contain the cause of the delays, but is better suited for analysing\n",
    "trends in delays over a \"long\" period of time."
   ]
  },
  {
   "cell_type": "code",
   "execution_count": 1,
   "id": "135b8e79-0a76-4b11-99b0-72ea2c842567",
   "metadata": {},
   "outputs": [],
   "source": [
    "import pandas as pd\n",
    "import numpy as np\n",
    "\n",
    "from datetime import datetime, timedelta\n",
    "import dask.dataframe as dd\n",
    "import dask.array as da\n",
    "import dask.bag as db\n",
    "import dask\n",
    "#dask.config.set({\"optimization.fuse.active\": True})\n",
    "\n",
    "from custom_loader import Loader\n",
    "from tqdm import tqdm\n",
    "\n",
    "\n",
    "import re\n",
    "\n",
    "#import bamboolib\n",
    "import plotly.express as px"
   ]
  },
  {
   "cell_type": "code",
   "execution_count": 2,
   "id": "79661ea0-92a1-48ed-b6e2-0353fcf767c7",
   "metadata": {},
   "outputs": [],
   "source": [
    "def immutable_sort(list_to_sort:list) -> list:\n",
    "    res = list_to_sort.copy()\n",
    "    res.sort()\n",
    "    return res\n",
    "\n",
    "def epoch_to_date(day_since_epoch:int) ->  datetime:\n",
    "    return datetime(1970,1,1) + timedelta(days = day_since_epoch)"
   ]
  },
  {
   "cell_type": "markdown",
   "id": "556e8cf7-f724-4aba-b50e-eb4dd429730b",
   "metadata": {},
   "source": [
    "## Setting up the connection\n",
    "\n",
    "The data is stored in Cassandra db, which is well suited to store large amounts of data.\n",
    "This data was scraped by u/gaborath on reddit, who graciously gave us this sample. He has\n",
    "a cool [website](https://mav-stat.info) on the same topic."
   ]
  },
  {
   "cell_type": "code",
   "execution_count": 3,
   "id": "9bd85974-9707-452d-a26f-f31bb002f533",
   "metadata": {},
   "outputs": [],
   "source": [
    "with open('cassandra-credentials.txt','r') as f:\n",
    "    user = f.readline().strip()\n",
    "    pw = f.readline().strip()"
   ]
  },
  {
   "cell_type": "code",
   "execution_count": 4,
   "id": "2500f973-488d-4774-b24a-a1827817452f",
   "metadata": {},
   "outputs": [
    {
     "name": "stderr",
     "output_type": "stream",
     "text": [
      "2022-12-12 22:26:13,640 - distributed.http.proxy - INFO - To route to workers diagnostics web server please install jupyter-server-proxy: python -m pip install jupyter-server-proxy\n",
      "2022-12-12 22:26:13,704 - distributed.scheduler - INFO - State start\n",
      "2022-12-12 22:26:13,711 - distributed.scheduler - INFO - Clear task state\n",
      "2022-12-12 22:26:13,714 - distributed.scheduler - INFO -   Scheduler at:     tcp://127.0.0.1:46635\n",
      "2022-12-12 22:26:13,717 - distributed.scheduler - INFO -   dashboard at:            127.0.0.1:8787\n",
      "2022-12-12 22:26:13,769 - distributed.nanny - INFO -         Start Nanny at: 'tcp://127.0.0.1:45551'\n",
      "2022-12-12 22:26:13,799 - distributed.nanny - INFO -         Start Nanny at: 'tcp://127.0.0.1:40489'\n",
      "2022-12-12 22:26:13,832 - distributed.nanny - INFO -         Start Nanny at: 'tcp://127.0.0.1:43275'\n",
      "2022-12-12 22:26:13,871 - distributed.nanny - INFO -         Start Nanny at: 'tcp://127.0.0.1:40087'\n",
      "2022-12-12 22:26:15,788 - distributed.worker - INFO -       Start worker at:      tcp://127.0.0.1:38277\n",
      "2022-12-12 22:26:15,789 - distributed.worker - INFO -          Listening to:      tcp://127.0.0.1:38277\n",
      "2022-12-12 22:26:15,790 - distributed.worker - INFO -          dashboard at:            127.0.0.1:33161\n",
      "2022-12-12 22:26:15,790 - distributed.worker - INFO - Waiting to connect to:      tcp://127.0.0.1:46635\n",
      "2022-12-12 22:26:15,790 - distributed.worker - INFO - -------------------------------------------------\n",
      "2022-12-12 22:26:15,790 - distributed.worker - INFO -               Threads:                          2\n",
      "2022-12-12 22:26:15,790 - distributed.worker - INFO -                Memory:                   4.77 GiB\n",
      "2022-12-12 22:26:15,790 - distributed.worker - INFO -       Local Directory: /tmp/dask-worker-space/worker-9bplgp0n\n",
      "2022-12-12 22:26:15,790 - distributed.worker - INFO - -------------------------------------------------\n",
      "2022-12-12 22:26:15,861 - distributed.worker - INFO -       Start worker at:      tcp://127.0.0.1:40179\n",
      "2022-12-12 22:26:15,861 - distributed.worker - INFO -          Listening to:      tcp://127.0.0.1:40179\n",
      "2022-12-12 22:26:15,861 - distributed.worker - INFO -          dashboard at:            127.0.0.1:33801\n",
      "2022-12-12 22:26:15,861 - distributed.worker - INFO - Waiting to connect to:      tcp://127.0.0.1:46635\n",
      "2022-12-12 22:26:15,862 - distributed.worker - INFO - -------------------------------------------------\n",
      "2022-12-12 22:26:15,862 - distributed.worker - INFO -               Threads:                          2\n",
      "2022-12-12 22:26:15,862 - distributed.worker - INFO -                Memory:                   4.77 GiB\n",
      "2022-12-12 22:26:15,862 - distributed.worker - INFO -       Local Directory: /tmp/dask-worker-space/worker-14ud8leh\n",
      "2022-12-12 22:26:15,862 - distributed.worker - INFO - -------------------------------------------------\n",
      "2022-12-12 22:26:15,891 - distributed.worker - INFO -       Start worker at:      tcp://127.0.0.1:37967\n",
      "2022-12-12 22:26:15,891 - distributed.worker - INFO -          Listening to:      tcp://127.0.0.1:37967\n",
      "2022-12-12 22:26:15,891 - distributed.worker - INFO -          dashboard at:            127.0.0.1:34543\n",
      "2022-12-12 22:26:15,892 - distributed.worker - INFO - Waiting to connect to:      tcp://127.0.0.1:46635\n",
      "2022-12-12 22:26:15,892 - distributed.worker - INFO - -------------------------------------------------\n",
      "2022-12-12 22:26:15,892 - distributed.worker - INFO -               Threads:                          2\n",
      "2022-12-12 22:26:15,892 - distributed.worker - INFO -                Memory:                   4.77 GiB\n",
      "2022-12-12 22:26:15,892 - distributed.worker - INFO -       Local Directory: /tmp/dask-worker-space/worker-bfzpnrt9\n",
      "2022-12-12 22:26:15,892 - distributed.worker - INFO - -------------------------------------------------\n",
      "2022-12-12 22:26:15,916 - distributed.worker - INFO -       Start worker at:      tcp://127.0.0.1:45705\n",
      "2022-12-12 22:26:15,917 - distributed.worker - INFO -          Listening to:      tcp://127.0.0.1:45705\n",
      "2022-12-12 22:26:15,917 - distributed.worker - INFO -          dashboard at:            127.0.0.1:38089\n",
      "2022-12-12 22:26:15,917 - distributed.worker - INFO - Waiting to connect to:      tcp://127.0.0.1:46635\n",
      "2022-12-12 22:26:15,917 - distributed.worker - INFO - -------------------------------------------------\n",
      "2022-12-12 22:26:15,917 - distributed.worker - INFO -               Threads:                          2\n",
      "2022-12-12 22:26:15,917 - distributed.worker - INFO -                Memory:                   4.77 GiB\n",
      "2022-12-12 22:26:15,918 - distributed.worker - INFO -       Local Directory: /tmp/dask-worker-space/worker-lz5c6dnc\n",
      "2022-12-12 22:26:15,918 - distributed.worker - INFO - -------------------------------------------------\n",
      "2022-12-12 22:26:16,471 - distributed.scheduler - INFO - Register worker <WorkerState 'tcp://127.0.0.1:38277', name: 1, status: init, memory: 0, processing: 0>\n",
      "2022-12-12 22:26:16,497 - distributed.scheduler - INFO - Starting worker compute stream, tcp://127.0.0.1:38277\n",
      "2022-12-12 22:26:16,498 - distributed.worker - INFO -         Registered to:      tcp://127.0.0.1:46635\n",
      "2022-12-12 22:26:16,498 - distributed.worker - INFO - -------------------------------------------------\n",
      "2022-12-12 22:26:16,505 - distributed.core - INFO - Starting established connection\n",
      "2022-12-12 22:26:16,506 - distributed.core - INFO - Starting established connection\n",
      "2022-12-12 22:26:16,562 - distributed.scheduler - INFO - Register worker <WorkerState 'tcp://127.0.0.1:40179', name: 0, status: init, memory: 0, processing: 0>\n",
      "2022-12-12 22:26:16,571 - distributed.scheduler - INFO - Starting worker compute stream, tcp://127.0.0.1:40179\n",
      "2022-12-12 22:26:16,571 - distributed.worker - INFO -         Registered to:      tcp://127.0.0.1:46635\n",
      "2022-12-12 22:26:16,571 - distributed.worker - INFO - -------------------------------------------------\n",
      "2022-12-12 22:26:16,575 - distributed.core - INFO - Starting established connection\n",
      "2022-12-12 22:26:16,577 - distributed.core - INFO - Starting established connection\n",
      "2022-12-12 22:26:16,604 - distributed.scheduler - INFO - Register worker <WorkerState 'tcp://127.0.0.1:37967', name: 3, status: init, memory: 0, processing: 0>\n",
      "2022-12-12 22:26:16,609 - distributed.scheduler - INFO - Starting worker compute stream, tcp://127.0.0.1:37967\n",
      "2022-12-12 22:26:16,610 - distributed.worker - INFO -         Registered to:      tcp://127.0.0.1:46635\n",
      "2022-12-12 22:26:16,611 - distributed.worker - INFO - -------------------------------------------------\n",
      "2022-12-12 22:26:16,612 - distributed.core - INFO - Starting established connection\n",
      "2022-12-12 22:26:16,614 - distributed.core - INFO - Starting established connection\n",
      "2022-12-12 22:26:16,658 - distributed.scheduler - INFO - Register worker <WorkerState 'tcp://127.0.0.1:45705', name: 2, status: init, memory: 0, processing: 0>\n",
      "2022-12-12 22:26:16,661 - distributed.scheduler - INFO - Starting worker compute stream, tcp://127.0.0.1:45705\n",
      "2022-12-12 22:26:16,662 - distributed.worker - INFO -         Registered to:      tcp://127.0.0.1:46635\n",
      "2022-12-12 22:26:16,662 - distributed.worker - INFO - -------------------------------------------------\n",
      "2022-12-12 22:26:16,668 - distributed.core - INFO - Starting established connection\n",
      "2022-12-12 22:26:16,670 - distributed.core - INFO - Starting established connection\n",
      "2022-12-12 22:26:16,709 - distributed.scheduler - INFO - Receive client connection: Client-9ca67754-7a63-11ed-ae88-8c1645c78adc\n",
      "2022-12-12 22:26:16,712 - distributed.core - INFO - Starting established connection\n"
     ]
    }
   ],
   "source": [
    "dask_cassandra_loader = Loader()\n",
    "keyspace = 'mav'\n",
    "cluster = ['vm.niif.cloud.bme.hu']\n",
    "\n",
    "dask_cassandra_loader.connect_to_cassandra(cluster,\n",
    "                                           keyspace,\n",
    "                                           username=user,\n",
    "                                           password=pw, port=11352)\n",
    "dask_cassandra_loader.connect_to_local_dask()"
   ]
  },
  {
   "cell_type": "markdown",
   "id": "d472fe87-7a91-4884-ab9d-25c47dbf5d76",
   "metadata": {},
   "source": [
    "## Distribution of delays\n",
    "\n",
    "The delays are categorized based on from 0 (non inclusive) to 1000 minutes by 5 minute increments.\n",
    "The resulting distribution can be seen below. (only 0 to 250 displayed for clarity)"
   ]
  },
  {
   "cell_type": "code",
   "execution_count": null,
   "id": "f929b341-08a9-4127-a9a7-e309270d5f4b",
   "metadata": {},
   "outputs": [],
   "source": [
    "bins = list(range(0,1000,5))\n",
    "delays_binned = None\n",
    "#epoch range: 18628-19296 \n",
    "for i in tqdm(range(18628,19296,5)):\n",
    "    try:\n",
    "        table = dask_cassandra_loader.load_cassandra_table('train_data',\n",
    "                                                 ['elviraid', 'delay',],\n",
    "                                                           [],\n",
    "                                                 #[('epoch', 'equal', [19221])],\n",
    "                                                 [('epoch', [i,i+1,i+2,i+3,i+4])],\n",
    "                                                 force=False)\n",
    "        if table.data is None:\n",
    "            continue\n",
    "        df = table.data.groupby('elviraid').agg({'delay':'mean'}).reset_index()\n",
    "        df = df['delay'].map_partitions(pd.cut, bins)\n",
    "        if delays_binned is None:\n",
    "            tmp = df.compute()\n",
    "            tmp = tmp.groupby(tmp).size()\n",
    "            delays_binned = tmp\n",
    "        else:\n",
    "            tmp = df.compute()\n",
    "            tmp = tmp.groupby(tmp).size()\n",
    "            delays_binned = delays_binned + tmp\n",
    "    except Exception as e:\n",
    "        print(e)"
   ]
  },
  {
   "cell_type": "code",
   "execution_count": null,
   "id": "7b033788-10f8-4e74-bbd5-f36e5e6b840a",
   "metadata": {},
   "outputs": [],
   "source": [
    "plot_df = pd.DataFrame({'x':delays_binned.index,'y':delays_binned})\n",
    "plot_df['x'] = plot_df['x'].astype(str)\n",
    "plot_df.to_csv('data/delays_binned.csv')"
   ]
  },
  {
   "cell_type": "code",
   "execution_count": null,
   "id": "682f1033-3619-4805-8b59-6f581bc6e20d",
   "metadata": {},
   "outputs": [],
   "source": [
    "plot_df = pd.read_csv('data/delays_binned.csv').head(50)\n",
    "fig = px.histogram(plot_df,x='x', y='y', title  = 'distribution of mean train delays')\n",
    "fig.update_yaxes(type='log', title='count, logarithmic')\n",
    "fig.update_xaxes(title='delay group (minutes)')\n",
    "fig"
   ]
  },
  {
   "cell_type": "markdown",
   "id": "e9e352ef-3052-47ce-871c-ea9eb468a046",
   "metadata": {},
   "source": [
    "## The mean delays for each route\n",
    "\n",
    "Finding the mean delays for each route is useful for diagnostical reasons.\n",
    "It can help diagnose problems with:\n",
    "\n",
    "- infrastucture\n",
    "- management\n",
    "- failures in collaboration (with other railway companies)\n",
    "\n",
    "We suggest rescheduling the routes that have a high average delay or fixing\n",
    "the underlying problems."
   ]
  },
  {
   "cell_type": "code",
   "execution_count": null,
   "id": "bd8bc64b-a976-4869-8350-04f73c74c5dc",
   "metadata": {},
   "outputs": [
    {
     "name": "stderr",
     "output_type": "stream",
     "text": [
      "  5%|██████████▍                                                                                                                                                                                            | 7/134 [01:28<25:50, 12.21s/it]2022-12-12 22:27:55,629 - distributed.worker - WARNING - Compute Failed\n",
      "Key:       ('read_data-aggregate-chunk-0a56a82bda73b2a9407e99e76a3f93d3-35eefbe93ded249e48756b112b3bbf9a', 2)\n",
      "Function:  execute_task\n",
      "args:      ((subgraph_callable-2b6f4a28-33dc-468c-acb9-a63eff8a72d7, 'relation', (<function Table.__read_data at 0x7f5209c8a3a0>, 'SELECT relation, delay \\nFROM train_data \\nWHERE epoch=18667 ALLOW FILTERING', ['vm.niif.cloud.bme.hu'], 'mav', 'matee', '6RNsNszM2rjLGRSPk1MZ9', 11352)))\n",
      "kwargs:    {}\n",
      "Exception: 'NoHostAvailable(\\'Unable to connect to any servers\\', {\\'193.225.24.253:11352\\': OSError(None, \"Tried connecting to [(\\'193.225.24.253\\', 11352)]. Last error: timed out\")})'\n",
      "\n",
      "2022-12-12 22:27:55,659 - distributed.worker - WARNING - Compute Failed\n",
      "Key:       ('read_data-aggregate-chunk-0a56a82bda73b2a9407e99e76a3f93d3-35eefbe93ded249e48756b112b3bbf9a', 1)\n",
      "Function:  execute_task\n",
      "args:      ((subgraph_callable-2b6f4a28-33dc-468c-acb9-a63eff8a72d7, 'relation', (<function Table.__read_data at 0x7f0fa40b93a0>, 'SELECT relation, delay \\nFROM train_data \\nWHERE epoch=18665 ALLOW FILTERING', ['vm.niif.cloud.bme.hu'], 'mav', 'matee', '6RNsNszM2rjLGRSPk1MZ9', 11352)))\n",
      "kwargs:    {}\n",
      "Exception: 'NoHostAvailable(\\'Unable to connect to any servers\\', {\\'193.225.24.253:11352\\': OSError(None, \"Tried connecting to [(\\'193.225.24.253\\', 11352)]. Last error: timed out\")})'\n",
      "\n"
     ]
    },
    {
     "name": "stdout",
     "output_type": "stream",
     "text": [
      "('Unable to connect to any servers', {'193.225.24.253:11352': OSError(None, \"Tried connecting to [('193.225.24.253', 11352)]. Last error: timed out\")})\n"
     ]
    },
    {
     "name": "stderr",
     "output_type": "stream",
     "text": [
      "2022-12-12 22:27:55,853 - distributed.worker - WARNING - Compute Failed\n",
      "Key:       ('read_data-aggregate-chunk-0a56a82bda73b2a9407e99e76a3f93d3-35eefbe93ded249e48756b112b3bbf9a', 3)\n",
      "Function:  execute_task\n",
      "args:      ((subgraph_callable-2b6f4a28-33dc-468c-acb9-a63eff8a72d7, 'relation', (<function Table.__read_data at 0x7f770480cb80>, 'SELECT relation, delay \\nFROM train_data \\nWHERE epoch=18663 ALLOW FILTERING', ['vm.niif.cloud.bme.hu'], 'mav', 'matee', '6RNsNszM2rjLGRSPk1MZ9', 11352)))\n",
      "kwargs:    {}\n",
      "Exception: 'NoHostAvailable(\\'Unable to connect to any servers\\', {\\'193.225.24.253:11352\\': OSError(None, \"Tried connecting to [(\\'193.225.24.253\\', 11352)]. Last error: timed out\")})'\n",
      "\n",
      "2022-12-12 22:28:05,818 - distributed.worker - WARNING - Compute Failed\n",
      "Key:       ('read_data-aggregate-chunk-807fe609d3a95b7e269981d2295c3d43-65a3288635ea662ca0e53f337babcff0', 1)\n",
      "Function:  execute_task\n",
      "args:      ((subgraph_callable-b389c164-338f-485e-9192-1ee207db10e8, 'relation', (<function Table.__read_data at 0x7f0f8f7169d0>, 'SELECT relation, delay \\nFROM train_data \\nWHERE epoch=18665 ALLOW FILTERING', ['vm.niif.cloud.bme.hu'], 'mav', 'matee', '6RNsNszM2rjLGRSPk1MZ9', 11352)))\n",
      "kwargs:    {}\n",
      "Exception: 'NoHostAvailable(\\'Unable to connect to any servers\\', {\\'193.225.24.253:11352\\': OSError(None, \"Tried connecting to [(\\'193.225.24.253\\', 11352)]. Last error: timed out\")})'\n",
      "\n",
      "2022-12-12 22:28:06,009 - distributed.worker - WARNING - Compute Failed\n",
      "Key:       ('read_data-aggregate-chunk-807fe609d3a95b7e269981d2295c3d43-65a3288635ea662ca0e53f337babcff0', 4)\n",
      "Function:  execute_task\n",
      "args:      ((subgraph_callable-b389c164-338f-485e-9192-1ee207db10e8, 'relation', (<function Table.__read_data at 0x7f760d955280>, 'SELECT relation, delay \\nFROM train_data \\nWHERE epoch=18666 ALLOW FILTERING', ['vm.niif.cloud.bme.hu'], 'mav', 'matee', '6RNsNszM2rjLGRSPk1MZ9', 11352)))\n",
      "kwargs:    {}\n",
      "Exception: 'NoHostAvailable(\\'Unable to connect to any servers\\', {\\'193.225.24.253:11352\\': OSError(None, \"Tried connecting to [(\\'193.225.24.253\\', 11352)]. Last error: timed out\")})'\n",
      "\n"
     ]
    },
    {
     "name": "stdout",
     "output_type": "stream",
     "text": [
      "('Unable to connect to any servers', {'193.225.24.253:11352': OSError(None, \"Tried connecting to [('193.225.24.253', 11352)]. Last error: timed out\")})\n"
     ]
    },
    {
     "name": "stderr",
     "output_type": "stream",
     "text": [
      " 10%|████████████████████▋                                                                                                                                                                                 | 14/134 [03:06<22:50, 11.42s/it]2022-12-12 22:29:32,708 - distributed.worker - WARNING - Compute Failed\n",
      "Key:       ('read_data-aggregate-chunk-173489dbade6bb63f80bf80d5cf465d5-4d9b9d62ae5068e9f4a435c9ec8bdfc8', 2)\n",
      "Function:  execute_task\n",
      "args:      ((subgraph_callable-93c6243b-d0c2-4c05-9528-3b0871af8331, 'relation', (<function Table.__read_data at 0x7f75e4675700>, 'SELECT relation, delay \\nFROM train_data \\nWHERE epoch=18699 ALLOW FILTERING', ['vm.niif.cloud.bme.hu'], 'mav', 'matee', '6RNsNszM2rjLGRSPk1MZ9', 11352)))\n",
      "kwargs:    {}\n",
      "Exception: 'NoHostAvailable(\\'Unable to connect to any servers\\', {\\'193.225.24.253:11352\\': OSError(None, \"Tried connecting to [(\\'193.225.24.253\\', 11352)]. Last error: timed out\")})'\n",
      "\n",
      "2022-12-12 22:29:32,845 - distributed.worker - WARNING - Compute Failed\n",
      "Key:       ('read_data-aggregate-chunk-173489dbade6bb63f80bf80d5cf465d5-4d9b9d62ae5068e9f4a435c9ec8bdfc8', 3)\n",
      "Function:  execute_task\n",
      "args:      ((subgraph_callable-93c6243b-d0c2-4c05-9528-3b0871af8331, 'relation', (<function Table.__read_data at 0x7fb312225550>, 'SELECT relation, delay \\nFROM train_data \\nWHERE epoch=18698 ALLOW FILTERING', ['vm.niif.cloud.bme.hu'], 'mav', 'matee', '6RNsNszM2rjLGRSPk1MZ9', 11352)))\n",
      "kwargs:    {}\n",
      "Exception: 'NoHostAvailable(\\'Unable to connect to any servers\\', {\\'193.225.24.253:11352\\': OSError(None, \"Tried connecting to [(\\'193.225.24.253\\', 11352)]. Last error: timed out\")})'\n",
      "\n",
      "2022-12-12 22:29:32,868 - distributed.worker - WARNING - Compute Failed\n",
      "Key:       ('read_data-aggregate-chunk-173489dbade6bb63f80bf80d5cf465d5-4d9b9d62ae5068e9f4a435c9ec8bdfc8', 0)\n",
      "Function:  execute_task\n",
      "args:      ((subgraph_callable-93c6243b-d0c2-4c05-9528-3b0871af8331, 'relation', (<function Table.__read_data at 0x7f0fcf0519d0>, 'SELECT relation, delay \\nFROM train_data \\nWHERE epoch=18702 ALLOW FILTERING', ['vm.niif.cloud.bme.hu'], 'mav', 'matee', '6RNsNszM2rjLGRSPk1MZ9', 11352)))\n",
      "kwargs:    {}\n",
      "Exception: 'NoHostAvailable(\\'Unable to connect to any servers\\', {\\'193.225.24.253:11352\\': OSError(None, \"Tried connecting to [(\\'193.225.24.253\\', 11352)]. Last error: timed out\")})'\n",
      "\n"
     ]
    },
    {
     "name": "stdout",
     "output_type": "stream",
     "text": [
      "('Unable to connect to any servers', {'193.225.24.253:11352': OSError(None, \"Tried connecting to [('193.225.24.253', 11352)]. Last error: timed out\")})\n"
     ]
    },
    {
     "name": "stderr",
     "output_type": "stream",
     "text": [
      "2022-12-12 22:29:37,874 - distributed.worker - WARNING - Compute Failed\n",
      "Key:       __read_data-f3656f29-0f0c-443f-a21f-62d34a134ca2\n",
      "Function:  __read_data\n",
      "args:      ('SELECT relation, delay \\nFROM train_data \\nWHERE epoch=18702 ALLOW FILTERING', ['vm.niif.cloud.bme.hu'], 'mav', 'matee', '6RNsNszM2rjLGRSPk1MZ9', 11352)\n",
      "kwargs:    {}\n",
      "Exception: 'NoHostAvailable(\\'Unable to connect to any servers\\', {\\'193.225.24.253:11352\\': OSError(None, \"Tried connecting to [(\\'193.225.24.253\\', 11352)]. Last error: timed out\")})'\n",
      "\n"
     ]
    },
    {
     "name": "stdout",
     "output_type": "stream",
     "text": [
      "load_cassandra_table failed: \n"
     ]
    },
    {
     "name": "stderr",
     "output_type": "stream",
     "text": [
      " 13%|██████████████████████████▌                                                                                                                                                                           | 18/134 [04:06<24:56, 12.90s/it]2022-12-12 22:30:23,654 - distributed.utils_perf - INFO - full garbage collection released 72.57 MiB from 1877 reference cycles (threshold: 9.54 MiB)\n",
      " 15%|█████████████████████████████▌                                                                                                                                                                        | 20/134 [04:27<22:15, 11.72s/it]2022-12-12 22:30:50,087 - distributed.worker - WARNING - Compute Failed\n",
      "Key:       ('read_data-aggregate-chunk-3c84f2d838a61d52170b81e5f16cc349-716bc5506650d301ebfb7efffab1b740', 0)\n",
      "Function:  execute_task\n",
      "args:      ((subgraph_callable-4dd8e214-d287-4db4-a76b-2c2b12356192, 'relation', (<function Table.__read_data at 0x7f75e45904c0>, 'SELECT relation, delay \\nFROM train_data \\nWHERE epoch=18728 ALLOW FILTERING', ['vm.niif.cloud.bme.hu'], 'mav', 'matee', '6RNsNszM2rjLGRSPk1MZ9', 11352)))\n",
      "kwargs:    {}\n",
      "Exception: 'NoHostAvailable(\\'Unable to connect to any servers\\', {\\'193.225.24.253:11352\\': OSError(None, \"Tried connecting to [(\\'193.225.24.253\\', 11352)]. Last error: timed out\")})'\n",
      "\n"
     ]
    },
    {
     "name": "stdout",
     "output_type": "stream",
     "text": [
      "('Unable to connect to any servers', {'193.225.24.253:11352': OSError(None, \"Tried connecting to [('193.225.24.253', 11352)]. Last error: timed out\")})\n"
     ]
    },
    {
     "name": "stderr",
     "output_type": "stream",
     "text": [
      " 16%|███████████████████████████████                                                                                                                                                                       | 21/134 [04:40<22:40, 12.04s/it]2022-12-12 22:31:07,968 - distributed.worker - WARNING - Compute Failed\n",
      "Key:       ('read_data-aggregate-chunk-0707bf0d79caaee2218cadfb5b9850d6-02a47535d5274bd306755f3e4100284a', 1)\n",
      "Function:  execute_task\n",
      "args:      ((subgraph_callable-ad434f9a-8da5-40de-b03f-6abb83fc6ea0, 'relation', (<function Table.__read_data at 0x7f7670249e50>, 'SELECT relation, delay \\nFROM train_data \\nWHERE epoch=18737 ALLOW FILTERING', ['vm.niif.cloud.bme.hu'], 'mav', 'matee', '6RNsNszM2rjLGRSPk1MZ9', 11352)))\n",
      "kwargs:    {}\n",
      "Exception: 'NoHostAvailable(\\'Unable to connect to any servers\\', {\\'193.225.24.253:11352\\': OSError(None, \"Tried connecting to [(\\'193.225.24.253\\', 11352)]. Last error: timed out\")})'\n",
      "\n"
     ]
    },
    {
     "name": "stdout",
     "output_type": "stream",
     "text": [
      "('Unable to connect to any servers', {'193.225.24.253:11352': OSError(None, \"Tried connecting to [('193.225.24.253', 11352)]. Last error: timed out\")})\n"
     ]
    },
    {
     "name": "stderr",
     "output_type": "stream",
     "text": [
      " 19%|████████████████████████████████████▉                                                                                                                                                                 | 25/134 [05:34<22:28, 12.37s/it]2022-12-12 22:32:02,257 - distributed.worker - WARNING - Compute Failed\n",
      "Key:       ('read_data-aggregate-chunk-186f2da5887ef391723ea17d25c95de7-d80b4b5024499550a8fd7415fd3a30ec', 0)\n",
      "Function:  execute_task\n",
      "args:      ((subgraph_callable-ab066099-fe83-42e5-8803-a3198e28e87b, 'relation', (<function Table.__read_data at 0x7f76da5f6ee0>, 'SELECT relation, delay \\nFROM train_data \\nWHERE epoch=18757 ALLOW FILTERING', ['vm.niif.cloud.bme.hu'], 'mav', 'matee', '6RNsNszM2rjLGRSPk1MZ9', 11352)))\n",
      "kwargs:    {}\n",
      "Exception: 'NoHostAvailable(\\'Unable to connect to any servers\\', {\\'193.225.24.253:11352\\': OSError(None, \"Tried connecting to [(\\'193.225.24.253\\', 11352)]. Last error: timed out\")})'\n",
      "\n"
     ]
    },
    {
     "name": "stdout",
     "output_type": "stream",
     "text": [
      "('Unable to connect to any servers', {'193.225.24.253:11352': OSError(None, \"Tried connecting to [('193.225.24.253', 11352)]. Last error: timed out\")})\n"
     ]
    },
    {
     "name": "stderr",
     "output_type": "stream",
     "text": [
      "2022-12-12 22:32:02,661 - distributed.worker - WARNING - Compute Failed\n",
      "Key:       ('read_data-aggregate-chunk-186f2da5887ef391723ea17d25c95de7-d80b4b5024499550a8fd7415fd3a30ec', 4)\n",
      "Function:  execute_task\n",
      "args:      ((subgraph_callable-ab066099-fe83-42e5-8803-a3198e28e87b, 'relation', (<function Table.__read_data at 0x7f76da5f6160>, 'SELECT relation, delay \\nFROM train_data \\nWHERE epoch=18753 ALLOW FILTERING', ['vm.niif.cloud.bme.hu'], 'mav', 'matee', '6RNsNszM2rjLGRSPk1MZ9', 11352)))\n",
      "kwargs:    {}\n",
      "Exception: 'NoHostAvailable(\"Unable to connect to any servers using keyspace \\'mav\\'\", [\\'193.225.24.253\\'])'\n",
      "\n",
      "2022-12-12 22:32:12,700 - distributed.worker - WARNING - Compute Failed\n",
      "Key:       ('read_data-aggregate-chunk-4e4cea759a9f9a777fcd1e7fe1c9f91d-2c2bc72785b857b7708592d7fae805c0', 4)\n",
      "Function:  execute_task\n",
      "args:      ((subgraph_callable-ffeef408-dc1e-4680-a4a0-8c70c615c173, 'relation', (<function Table.__read_data at 0x7f7704e061f0>, 'SELECT relation, delay \\nFROM train_data \\nWHERE epoch=18753 ALLOW FILTERING', ['vm.niif.cloud.bme.hu'], 'mav', 'matee', '6RNsNszM2rjLGRSPk1MZ9', 11352)))\n",
      "kwargs:    {}\n",
      "Exception: 'NoHostAvailable(\\'Unable to connect to any servers\\', {\\'193.225.24.253:11352\\': OSError(None, \"Tried connecting to [(\\'193.225.24.253\\', 11352)]. Last error: timed out\")})'\n",
      "\n"
     ]
    },
    {
     "name": "stdout",
     "output_type": "stream",
     "text": [
      "('Unable to connect to any servers', {'193.225.24.253:11352': OSError(None, \"Tried connecting to [('193.225.24.253', 11352)]. Last error: timed out\")})\n"
     ]
    },
    {
     "name": "stderr",
     "output_type": "stream",
     "text": [
      "2022-12-12 22:32:13,121 - distributed.worker - WARNING - Compute Failed\n",
      "Key:       ('read_data-aggregate-chunk-4e4cea759a9f9a777fcd1e7fe1c9f91d-2c2bc72785b857b7708592d7fae805c0', 1)\n",
      "Function:  execute_task\n",
      "args:      ((subgraph_callable-ffeef408-dc1e-4680-a4a0-8c70c615c173, 'relation', (<function Table.__read_data at 0x7f0fc08258b0>, 'SELECT relation, delay \\nFROM train_data \\nWHERE epoch=18756 ALLOW FILTERING', ['vm.niif.cloud.bme.hu'], 'mav', 'matee', '6RNsNszM2rjLGRSPk1MZ9', 11352)))\n",
      "kwargs:    {}\n",
      "Exception: 'NoHostAvailable(\"Unable to connect to any servers using keyspace \\'mav\\'\", [\\'193.225.24.253\\'])'\n",
      "\n",
      " 19%|██████████████████████████████████████▍                                                                                                                                                               | 26/134 [06:08<33:46, 18.76s/it]2022-12-12 22:32:31,683 - distributed.utils_perf - INFO - full garbage collection released 10.62 MiB from 4528 reference cycles (threshold: 9.54 MiB)\n",
      " 22%|████████████████████████████████████████████▎                                                                                                                                                         | 30/134 [06:59<24:59, 14.42s/it]2022-12-12 22:33:27,363 - distributed.worker - WARNING - Compute Failed\n",
      "Key:       ('read_data-aggregate-chunk-441e1c0944b4edba0ca1e457eb14bcdb-49662143b98672cbb46958cc4756a441', 2)\n",
      "Function:  execute_task\n",
      "args:      ((subgraph_callable-b977da43-1b32-4b6b-bd5f-092443a0b4ec, 'relation', (<function Table.__read_data at 0x7fb2fc5405e0>, 'SELECT relation, delay \\nFROM train_data \\nWHERE epoch=18778 ALLOW FILTERING', ['vm.niif.cloud.bme.hu'], 'mav', 'matee', '6RNsNszM2rjLGRSPk1MZ9', 11352)))\n",
      "kwargs:    {}\n",
      "Exception: 'NoHostAvailable(\\'Unable to connect to any servers\\', {\\'193.225.24.253:11352\\': OSError(None, \"Tried connecting to [(\\'193.225.24.253\\', 11352)]. Last error: timed out\")})'\n",
      "\n",
      "2022-12-12 22:33:27,399 - distributed.worker - WARNING - Compute Failed\n",
      "Key:       ('read_data-aggregate-chunk-441e1c0944b4edba0ca1e457eb14bcdb-49662143b98672cbb46958cc4756a441', 4)\n",
      "Function:  execute_task\n",
      "args:      ((subgraph_callable-b977da43-1b32-4b6b-bd5f-092443a0b4ec, 'relation', (<function Table.__read_data at 0x7f764c699670>, 'SELECT relation, delay \\nFROM train_data \\nWHERE epoch=18779 ALLOW FILTERING', ['vm.niif.cloud.bme.hu'], 'mav', 'matee', '6RNsNszM2rjLGRSPk1MZ9', 11352)))\n",
      "kwargs:    {}\n",
      "Exception: 'NoHostAvailable(\\'Unable to connect to any servers\\', {\\'193.225.24.253:11352\\': OSError(None, \"Tried connecting to [(\\'193.225.24.253\\', 11352)]. Last error: timed out\")})'\n",
      "\n"
     ]
    },
    {
     "name": "stdout",
     "output_type": "stream",
     "text": [
      "('Unable to connect to any servers', {'193.225.24.253:11352': OSError(None, \"Tried connecting to [('193.225.24.253', 11352)]. Last error: timed out\")})\n"
     ]
    },
    {
     "name": "stderr",
     "output_type": "stream",
     "text": [
      "2022-12-12 22:33:27,705 - distributed.worker - WARNING - Compute Failed\n",
      "Key:       ('read_data-aggregate-chunk-441e1c0944b4edba0ca1e457eb14bcdb-49662143b98672cbb46958cc4756a441', 1)\n",
      "Function:  execute_task\n",
      "args:      ((subgraph_callable-b977da43-1b32-4b6b-bd5f-092443a0b4ec, 'relation', (<function Table.__read_data at 0x7f76f7beb160>, 'SELECT relation, delay \\nFROM train_data \\nWHERE epoch=18780 ALLOW FILTERING', ['vm.niif.cloud.bme.hu'], 'mav', 'matee', '6RNsNszM2rjLGRSPk1MZ9', 11352)))\n",
      "kwargs:    {}\n",
      "Exception: 'NoHostAvailable(\"Unable to connect to any servers using keyspace \\'mav\\'\", [\\'193.225.24.253\\'])'\n",
      "\n",
      " 23%|█████████████████████████████████████████████▊                                                                                                                                                        | 31/134 [07:22<29:03, 16.93s/it]2022-12-12 22:33:45,045 - distributed.worker - WARNING - Compute Failed\n",
      "Key:       ('read_data-aggregate-chunk-343979e0b045030dc167934748eeab0f-c2190b3380f131c45ddc52e33261e746', 3)\n",
      "Function:  execute_task\n",
      "args:      ((subgraph_callable-a3889a54-91a7-4018-9658-fe1cd44c2bfe, 'relation', (<function Table.__read_data at 0x7f52096ee310>, 'SELECT relation, delay \\nFROM train_data \\nWHERE epoch=18784 ALLOW FILTERING', ['vm.niif.cloud.bme.hu'], 'mav', 'matee', '6RNsNszM2rjLGRSPk1MZ9', 11352)))\n",
      "kwargs:    {}\n",
      "Exception: 'NoHostAvailable(\\'Unable to connect to any servers\\', {\\'193.225.24.253:11352\\': OSError(None, \"Tried connecting to [(\\'193.225.24.253\\', 11352)]. Last error: timed out\")})'\n",
      "\n"
     ]
    },
    {
     "name": "stdout",
     "output_type": "stream",
     "text": [
      "('Unable to connect to any servers', {'193.225.24.253:11352': OSError(None, \"Tried connecting to [('193.225.24.253', 11352)]. Last error: timed out\")})\n"
     ]
    },
    {
     "name": "stderr",
     "output_type": "stream",
     "text": [
      "2022-12-12 22:33:45,316 - distributed.worker - WARNING - Compute Failed\n",
      "Key:       ('read_data-aggregate-chunk-343979e0b045030dc167934748eeab0f-c2190b3380f131c45ddc52e33261e746', 2)\n",
      "Function:  execute_task\n",
      "args:      ((subgraph_callable-a3889a54-91a7-4018-9658-fe1cd44c2bfe, 'relation', (<function Table.__read_data at 0x7f0fc0bf70d0>, 'SELECT relation, delay \\nFROM train_data \\nWHERE epoch=18783 ALLOW FILTERING', ['vm.niif.cloud.bme.hu'], 'mav', 'matee', '6RNsNszM2rjLGRSPk1MZ9', 11352)))\n",
      "kwargs:    {}\n",
      "Exception: 'NoHostAvailable(\"Unable to connect to any servers using keyspace \\'mav\\'\", [\\'193.225.24.253\\'])'\n",
      "\n",
      "2022-12-12 22:33:50,218 - distributed.worker - WARNING - Compute Failed\n",
      "Key:       __read_data-9fbc162c-d08f-4cd8-925b-72781d3e2d9a\n",
      "Function:  __read_data\n",
      "args:      ('SELECT relation, delay \\nFROM train_data \\nWHERE epoch=18787 ALLOW FILTERING', ['vm.niif.cloud.bme.hu'], 'mav', 'matee', '6RNsNszM2rjLGRSPk1MZ9', 11352)\n",
      "kwargs:    {}\n",
      "Exception: 'NoHostAvailable(\\'Unable to connect to any servers\\', {\\'193.225.24.253:11352\\': OSError(None, \"Tried connecting to [(\\'193.225.24.253\\', 11352)]. Last error: timed out\")})'\n",
      "\n"
     ]
    },
    {
     "name": "stdout",
     "output_type": "stream",
     "text": [
      "load_cassandra_table failed: \n"
     ]
    },
    {
     "name": "stderr",
     "output_type": "stream",
     "text": [
      " 25%|████████████████████████████████████████████████▊                                                                                                                                                     | 33/134 [07:37<19:51, 11.80s/it]2022-12-12 22:34:00,067 - distributed.worker - WARNING - Compute Failed\n",
      "Key:       __read_data-76f8d79d-2837-48b5-a4c7-27e8c43eb5c4\n",
      "Function:  __read_data\n",
      "args:      ('SELECT relation, delay \\nFROM train_data \\nWHERE epoch=18794 ALLOW FILTERING', ['vm.niif.cloud.bme.hu'], 'mav', 'matee', '6RNsNszM2rjLGRSPk1MZ9', 11352)\n",
      "kwargs:    {}\n",
      "Exception: 'NoHostAvailable(\"Unable to connect to any servers using keyspace \\'mav\\'\", [\\'193.225.24.253\\'])'\n",
      "\n"
     ]
    },
    {
     "name": "stdout",
     "output_type": "stream",
     "text": [
      "load_cassandra_table failed: \n"
     ]
    },
    {
     "name": "stderr",
     "output_type": "stream",
     "text": [
      " 31%|████████████████████████████████████████████████████████████▌                                                                                                                                         | 41/134 [09:02<17:35, 11.35s/it]2022-12-12 22:35:26,042 - distributed.utils_perf - INFO - full garbage collection released 80.24 MiB from 1533 reference cycles (threshold: 9.54 MiB)\n",
      " 34%|██████████████████████████████████████████████████████████████████▍                                                                                                                                   | 45/134 [09:52<18:03, 12.17s/it]2022-12-12 22:36:20,244 - distributed.worker - WARNING - Compute Failed\n",
      "Key:       ('read_data-aggregate-chunk-a038e5ddfab8b6bc097c68dceb18430a-7714665c7f273c80d5012bf7bc153ee3', 2)\n",
      "Function:  execute_task\n",
      "args:      ((subgraph_callable-06737517-f6bf-44c3-8137-996b415e9d87, 'relation', (<function Table.__read_data at 0x7f75dcff6280>, 'SELECT relation, delay \\nFROM train_data \\nWHERE epoch=18854 ALLOW FILTERING', ['vm.niif.cloud.bme.hu'], 'mav', 'matee', '6RNsNszM2rjLGRSPk1MZ9', 11352)))\n",
      "kwargs:    {}\n",
      "Exception: 'NoHostAvailable(\\'Unable to connect to any servers\\', {\\'193.225.24.253:11352\\': OSError(None, \"Tried connecting to [(\\'193.225.24.253\\', 11352)]. Last error: timed out\")})'\n",
      "\n"
     ]
    },
    {
     "name": "stdout",
     "output_type": "stream",
     "text": [
      "('Unable to connect to any servers', {'193.225.24.253:11352': OSError(None, \"Tried connecting to [('193.225.24.253', 11352)]. Last error: timed out\")})\n"
     ]
    },
    {
     "name": "stderr",
     "output_type": "stream",
     "text": [
      " 35%|█████████████████████████████████████████████████████████████████████▍                                                                                                                                | 47/134 [10:27<20:55, 14.43s/it]2022-12-12 22:36:55,579 - distributed.worker - WARNING - Compute Failed\n",
      "Key:       ('read_data-aggregate-chunk-e4b071e79d7b07f892ceabc30ce44b8f-f5a650aa50630671e1e6d40a1e85c11c', 3)\n",
      "Function:  execute_task\n",
      "args:      ((subgraph_callable-c4444c9b-c84e-4f37-87c8-d99b0b704ea0, 'relation', (<function Table.__read_data at 0x7f51d4320ee0>, 'SELECT relation, delay \\nFROM train_data \\nWHERE epoch=18866 ALLOW FILTERING', ['vm.niif.cloud.bme.hu'], 'mav', 'matee', '6RNsNszM2rjLGRSPk1MZ9', 11352)))\n",
      "kwargs:    {}\n",
      "Exception: 'NoHostAvailable(\"Unable to connect to any servers using keyspace \\'mav\\'\", [\\'193.225.24.253\\'])'\n",
      "\n",
      "2022-12-12 22:36:55,627 - distributed.worker - WARNING - Compute Failed\n",
      "Key:       ('read_data-aggregate-chunk-e4b071e79d7b07f892ceabc30ce44b8f-f5a650aa50630671e1e6d40a1e85c11c', 1)\n",
      "Function:  execute_task\n",
      "args:      ((subgraph_callable-c4444c9b-c84e-4f37-87c8-d99b0b704ea0, 'relation', (<function Table.__read_data at 0x7fb24c4310d0>, 'SELECT relation, delay \\nFROM train_data \\nWHERE epoch=18867 ALLOW FILTERING', ['vm.niif.cloud.bme.hu'], 'mav', 'matee', '6RNsNszM2rjLGRSPk1MZ9', 11352)))\n",
      "kwargs:    {}\n",
      "Exception: 'NoHostAvailable(\"Unable to connect to any servers using keyspace \\'mav\\'\", [\\'193.225.24.253\\'])'\n",
      "\n"
     ]
    },
    {
     "name": "stdout",
     "output_type": "stream",
     "text": [
      "(\"Unable to connect to any servers using keyspace 'mav'\", ['193.225.24.253'])\n"
     ]
    },
    {
     "name": "stderr",
     "output_type": "stream",
     "text": [
      " 42%|██████████████████████████████████████████████████████████████████████████████████▋                                                                                                                   | 56/134 [12:15<14:19, 11.02s/it]2022-12-12 22:38:38,791 - distributed.utils_perf - INFO - full garbage collection released 162.53 MiB from 2369 reference cycles (threshold: 9.54 MiB)\n",
      " 43%|████████████████████████████████████████████████████████████████████████████████████▏                                                                                                                 | 57/134 [12:27<14:27, 11.27s/it]2022-12-12 22:38:54,637 - distributed.worker - WARNING - Compute Failed\n",
      "Key:       ('read_data-aggregate-chunk-e8a9f53bac6648764d0117373fd5f3c6-ab5bcb29880a2cf7ba8289f0da6781c2', 2)\n",
      "Function:  execute_task\n",
      "args:      ((subgraph_callable-6f99d685-3337-44c3-868b-5abbb84a9e60, 'relation', (<function Table.__read_data at 0x7fb312ed5280>, 'SELECT relation, delay \\nFROM train_data \\nWHERE epoch=18915 ALLOW FILTERING', ['vm.niif.cloud.bme.hu'], 'mav', 'matee', '6RNsNszM2rjLGRSPk1MZ9', 11352)))\n",
      "kwargs:    {}\n",
      "Exception: 'NoHostAvailable(\\'Unable to connect to any servers\\', {\\'193.225.24.253:11352\\': OSError(None, \"Tried connecting to [(\\'193.225.24.253\\', 11352)]. Last error: timed out\")})'\n",
      "\n",
      "2022-12-12 22:38:54,638 - distributed.worker - WARNING - Compute Failed\n",
      "Key:       ('read_data-aggregate-chunk-e8a9f53bac6648764d0117373fd5f3c6-ab5bcb29880a2cf7ba8289f0da6781c2', 3)\n",
      "Function:  execute_task\n",
      "args:      ((subgraph_callable-6f99d685-3337-44c3-868b-5abbb84a9e60, 'relation', (<function Table.__read_data at 0x7f0e62e2a5e0>, 'SELECT relation, delay \\nFROM train_data \\nWHERE epoch=18916 ALLOW FILTERING', ['vm.niif.cloud.bme.hu'], 'mav', 'matee', '6RNsNszM2rjLGRSPk1MZ9', 11352)))\n",
      "kwargs:    {}\n",
      "Exception: 'NoHostAvailable(\\'Unable to connect to any servers\\', {\\'193.225.24.253:11352\\': OSError(None, \"Tried connecting to [(\\'193.225.24.253\\', 11352)]. Last error: timed out\")})'\n",
      "\n"
     ]
    },
    {
     "name": "stdout",
     "output_type": "stream",
     "text": [
      "('Unable to connect to any servers', {'193.225.24.253:11352': OSError(None, \"Tried connecting to [('193.225.24.253', 11352)]. Last error: timed out\")})\n"
     ]
    },
    {
     "name": "stderr",
     "output_type": "stream",
     "text": [
      " 44%|███████████████████████████████████████████████████████████████████████████████████████▏                                                                                                              | 59/134 [13:00<16:56, 13.55s/it]2022-12-12 22:39:27,656 - distributed.worker - WARNING - Compute Failed\n",
      "Key:       ('read_data-aggregate-chunk-c0a389a5c70bfdcff828790c47f77a48-7838035af2d5f25dbbf5f142ae519bc4', 0)\n",
      "Function:  execute_task\n",
      "args:      ((subgraph_callable-a9f9903a-ef15-4a21-b1ed-1a7e68c114de, 'relation', (<function Table.__read_data at 0x7f5194576ee0>, 'SELECT relation, delay \\nFROM train_data \\nWHERE epoch=18926 ALLOW FILTERING', ['vm.niif.cloud.bme.hu'], 'mav', 'matee', '6RNsNszM2rjLGRSPk1MZ9', 11352)))\n",
      "kwargs:    {}\n",
      "Exception: 'NoHostAvailable(\\'Unable to connect to any servers\\', {\\'193.225.24.253:11352\\': OSError(None, \"Tried connecting to [(\\'193.225.24.253\\', 11352)]. Last error: timed out\")})'\n",
      "\n",
      "2022-12-12 22:39:27,666 - distributed.worker - WARNING - Compute Failed\n",
      "Key:       ('read_data-aggregate-chunk-c0a389a5c70bfdcff828790c47f77a48-7838035af2d5f25dbbf5f142ae519bc4', 2)\n",
      "Function:  execute_task\n",
      "args:      ((subgraph_callable-a9f9903a-ef15-4a21-b1ed-1a7e68c114de, 'relation', (<function Table.__read_data at 0x7fb312570040>, 'SELECT relation, delay \\nFROM train_data \\nWHERE epoch=18927 ALLOW FILTERING', ['vm.niif.cloud.bme.hu'], 'mav', 'matee', '6RNsNszM2rjLGRSPk1MZ9', 11352)))\n",
      "kwargs:    {}\n",
      "Exception: 'NoHostAvailable(\\'Unable to connect to any servers\\', {\\'193.225.24.253:11352\\': OSError(None, \"Tried connecting to [(\\'193.225.24.253\\', 11352)]. Last error: timed out\")})'\n",
      "\n"
     ]
    },
    {
     "name": "stdout",
     "output_type": "stream",
     "text": [
      "('Unable to connect to any servers', {'193.225.24.253:11352': OSError(None, \"Tried connecting to [('193.225.24.253', 11352)]. Last error: timed out\")})\n"
     ]
    },
    {
     "name": "stderr",
     "output_type": "stream",
     "text": [
      " 49%|████████████████████████████████████████████████████████████████████████████████████████████████                                                                                                      | 65/134 [14:16<13:46, 11.98s/it]"
     ]
    }
   ],
   "source": [
    "cumul = None\n",
    "for i in tqdm(range(18628,19296,5)):\n",
    "    success = False\n",
    "    while not success:\n",
    "        try:\n",
    "            table = dask_cassandra_loader.load_cassandra_table('train_data',\n",
    "                                                     ['relation', 'delay',],\n",
    "                                                               [],\n",
    "                                                     #[('epoch', 'equal', [19221])],\n",
    "                                                     [('epoch', [i,i+1,i+2,i+3,i+4])],\n",
    "                                                     force=False)\n",
    "            if table.data is None:\n",
    "                continue\n",
    "            df = table.data.groupby('relation').agg({'delay':'mean'})\n",
    "            if cumul is None:\n",
    "                cumul = df.compute().reset_index()\n",
    "                cumul['delay'] = np.where(cumul['delay'].isna(),0,cumul['delay'])\n",
    "            else:\n",
    "                tmp = df.compute().reset_index()\n",
    "                tmp['delay'] = np.where(tmp['delay'].isna(),0,tmp['delay'])\n",
    "                cumul = pd.concat([cumul, tmp]).groupby(by='relation').mean()\n",
    "            success = True\n",
    "        except Exception as e:\n",
    "            print(e)"
   ]
  },
  {
   "cell_type": "code",
   "execution_count": null,
   "id": "648cbc65-37c1-41ca-a626-a37d337dfeaa",
   "metadata": {},
   "outputs": [],
   "source": [
    "mean_delay_route = cumul.reset_index()\n",
    "mean_delay_route['relation'] = mean_delay_route['relation'].apply(lambda x: x.split(' - '))\n",
    "mean_delay_route['relation'] = mean_delay_route['relation'].apply(immutable_sort)\n",
    "mean_delay_route['relation'] = mean_delay_route['relation'].astype(str)\n",
    "mean_delay_route = mean_delay_route.groupby('relation').mean().reset_index()\n",
    "mean_delay_route = mean_delay_route.sort_values(by=['delay'], ascending=[False])\n",
    "mean_delay_route.to_csv('data/mean_delay_route.csv')"
   ]
  },
  {
   "cell_type": "code",
   "execution_count": null,
   "id": "d207f390-a13f-4518-ab4b-da979913f9c1",
   "metadata": {},
   "outputs": [],
   "source": [
    "plot_df = pd.read_csv('data/mean_delay_route.csv').head(10)\n",
    "print(plot_df)\n",
    "fig = px.bar(plot_df, x='relation', y='delay', title='Mean delays for each route (Top 10)')\n",
    "fig.update_yaxes(title = 'mean delay (min)')\n",
    "fig.update_xaxes(title = 'route')\n",
    "fig"
   ]
  },
  {
   "cell_type": "markdown",
   "id": "00673972-6227-4e8d-adf9-86e4d9c827a8",
   "metadata": {},
   "source": [
    "## Observing seasonality in delays\n",
    "\n",
    "By creating a time series based on the mean delays, we might be able to observe\n",
    "seasonility in delays, which can help diagnose the shortcomings of the current\n",
    "system when it comes to weather conditions.\n",
    "\n"
   ]
  },
  {
   "cell_type": "code",
   "execution_count": null,
   "id": "e2a94403-eb65-4421-9d88-c92a2e90708e",
   "metadata": {},
   "outputs": [],
   "source": [
    "cumul = None\n",
    "for i in tqdm(range(18628,19296,5)):\n",
    "    table = dask_cassandra_loader.load_cassandra_table('train_data',\n",
    "                                             ['epoch', 'elviraid', 'delay',],\n",
    "                                                       [],\n",
    "                                             [('epoch', [i,i+1,i+2,i+3,i+4])],\n",
    "                                             force=False)\n",
    "    if table.data is None:\n",
    "        continue\n",
    "    df = table.data.groupby(['epoch','elviraid']).agg({'delay':'mean'})\n",
    "    df['is_delayed'] = df['delay'].map_partitions(lambda x: x > 1)\n",
    "    df = df.reset_index(0)\n",
    "    df = df.groupby(['epoch','is_delayed']).size().compute().reset_index(0).rename(columns={0:'count'})\n",
    "    if cumul is None:\n",
    "        cumul = df\n",
    "    else:\n",
    "        cumul = pd.concat([cumul,df])"
   ]
  },
  {
   "cell_type": "code",
   "execution_count": null,
   "id": "67e7833d-9e10-43ea-94a7-879e88762883",
   "metadata": {},
   "outputs": [],
   "source": [
    "delay_percentage = cumul.reset_index().pivot(index='epoch',columns=['is_delayed'])\n",
    "delay_percentage = delay_percentage['count']\n",
    "delay_percentage.columns = delay_percentage.columns.ravel()\n",
    "delay_percentage = delay_percentage.rename(columns={False:'not_delayed_count',True:'delayed_count'})\n",
    "delay_percentage['delayed_percentage'] = (delay_percentage['delayed_count'] / (delay_percentage['delayed_count']+delay_percentage['not_delayed_count']))*100\n",
    "delay_percentage.to_csv('data/delay_percentage.csv')"
   ]
  },
  {
   "cell_type": "code",
   "execution_count": null,
   "id": "b6f50e0b-f5ca-4c05-ae60-b812c3ebdf20",
   "metadata": {},
   "outputs": [],
   "source": [
    "plot_df = pd.read_csv('data/delay_percentage.csv')\n",
    "plot_df['epoch'] = plot_df['epoch'].apply(epoch_to_date)\n",
    "plot_df['sma30'] = plot_df['delayed_percentage'].rolling(30).mean()\n",
    "fig = px.line(plot_df, x='epoch', y = ['delayed_percentage','sma30'],\n",
    "              title = 'Percentage of trains with mean delays longer 1 minute')\n",
    "fig.update_yaxes(title = 'percentage of delayed trains')\n",
    "fig.update_xaxes(title = 'date')"
   ]
  },
  {
   "cell_type": "markdown",
   "id": "76669b8b-2cf8-4006-9cfa-d99ffac63996",
   "metadata": {},
   "source": [
    "## Trains with high average delays\n",
    "\n",
    "Trains with high average delays might be in bad condition, suggesting they need to be\n",
    "serviced or retired entirely. However, high average delays might be caused by factors\n",
    "outside the trains' conditions, which is why we suggest that this data should not be taken\n",
    "out of context and should be examined in conjunction with the routes that have high delays.\n",
    "\n",
    "A short investigation into these trains' conditions could reveal the real causes of the delays."
   ]
  },
  {
   "cell_type": "code",
   "execution_count": null,
   "id": "1d11426f-e549-49d2-9b13-fae84cd08cd4",
   "metadata": {},
   "outputs": [],
   "source": [
    "cumul = None\n",
    "#19296\n",
    "for i in tqdm(range(18628,19296,5)):\n",
    "    table = dask_cassandra_loader.load_cassandra_table('train_data',\n",
    "                                             ['trainnumber', 'delay','elviraid'],\n",
    "                                                       [],\n",
    "                                             [('epoch', [i,i+1,i+2,i+3,i+4])],\n",
    "                                             force=False)\n",
    "    if table.data is None:\n",
    "        continue\n",
    "    df = table.data.groupby(['trainnumber','elviraid']).agg({'delay':'mean'})\n",
    "    df = df.reset_index(0).compute()\n",
    "    if cumul is None:\n",
    "        cumul = df\n",
    "    else:\n",
    "        cumul = pd.concat([cumul,df])"
   ]
  },
  {
   "cell_type": "code",
   "execution_count": null,
   "id": "9c7da4e1-0342-4691-8d83-1f9df782e463",
   "metadata": {},
   "outputs": [],
   "source": [
    "delays_per_train = cumul.groupby('trainnumber').agg({'elviraid':'count','delay':'mean'})\n",
    "delays_per_train = delays_per_train.sort_values(by=['delay'],ascending=[False])\n",
    "delays_per_train.to_csv('data/delays_per_train.csv')"
   ]
  },
  {
   "cell_type": "code",
   "execution_count": null,
   "id": "20b6e89e-67e6-4e91-bb64-a8737fb60cc1",
   "metadata": {},
   "outputs": [],
   "source": [
    "plot_df = pd.read_csv('data/delays_per_train.csv')\n",
    "plot_df = plot_df[plot_df['elviraid']>10].head(10).reset_index()\n",
    "print(plot_df)\n",
    "fig = px.bar(plot_df, x='trainnumber', y='delay', title='Mean delays for each train')\n",
    "fig.update_yaxes(title = 'mean delay (min)')\n",
    "fig.update_xaxes(title = 'train number')\n",
    "fig"
   ]
  }
 ],
 "metadata": {
  "kernelspec": {
   "display_name": "Python 3 (ipykernel)",
   "language": "python",
   "name": "python3"
  },
  "language_info": {
   "codemirror_mode": {
    "name": "ipython",
    "version": 3
   },
   "file_extension": ".py",
   "mimetype": "text/x-python",
   "name": "python",
   "nbconvert_exporter": "python",
   "pygments_lexer": "ipython3",
   "version": "3.9.15"
  }
 },
 "nbformat": 4,
 "nbformat_minor": 5
}
